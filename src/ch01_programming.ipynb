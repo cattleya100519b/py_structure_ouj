{
 "cells": [
  {
   "cell_type": "markdown",
   "metadata": {},
   "source": [
    "# 1. Programming"
   ]
  },
  {
   "cell_type": "markdown",
   "metadata": {},
   "source": [
    "## 1.3. データ構造とコンテナ"
   ]
  },
  {
   "cell_type": "markdown",
   "metadata": {},
   "source": [
    "### 1.3.1. List\n",
    "- (square) bracket\n",
    "- mutable（要素可変）"
   ]
  },
  {
   "cell_type": "code",
   "execution_count": 52,
   "metadata": {},
   "outputs": [
    {
     "name": "stdout",
     "output_type": "stream",
     "text": [
      "list_a = [80, 40, 30, 20, 20]\n",
      "list_a[2] = 30\n",
      "list_a[2:5] = [30, 20, 20]\n",
      "30 in list_a = True\n",
      "90 in list_a = False\n",
      "len(list_a) = 5\n"
     ]
    }
   ],
   "source": [
    "list_a = [80, 40, 30, 20, 20]\n",
    "print(f'list_a = {list_a}')\n",
    "print(f'list_a[2] = {list_a[2]}')\n",
    "print(f'list_a[2:5] = {list_a[2:5]}')\n",
    "print(f'30 in list_a = {30 in list_a}')\n",
    "print(f'90 in list_a = {90 in list_a}')\n",
    "print(f'len(list_a) = {len(list_a)}')"
   ]
  },
  {
   "cell_type": "code",
   "execution_count": null,
   "metadata": {},
   "outputs": [
    {
     "name": "stdout",
     "output_type": "stream",
     "text": [
      "list_a.append(100) = None\n",
      "list_a = [80, 40, 30, 20, 20, 100]\n",
      "\n",
      "list_a.insert(2, 200) = None\n",
      "list_a = [80, 40, 200, 30, 20, 20, 100]\n",
      "\n",
      "list_a.remove(200) = None\n",
      "list_a = [80, 40, 30, 20, 20, 100]\n",
      "\n",
      "list_a.pop() = 100\n",
      "list_a = [80, 40, 30, 20, 20]\n",
      "\n"
     ]
    }
   ],
   "source": [
    "# methods of list\n",
    "list_a = [80, 40, 30, 20, 20]\n",
    "print(f'list_a = {list_a}')\n",
    "print(f'list_a.append(100) = {list_a.append(100)}')\n",
    "print(f'list_a = {list_a}\\n')\n",
    "\n",
    "print(f'list_a.insert(2, 200) = {list_a.insert(2, 200)}')\n",
    "print(f'list_a = {list_a}\\n')\n",
    "\n",
    "print(f'list_a.remove(200) = {list_a.remove(200)}')\n",
    "print(f'list_a = {list_a}\\n')\n",
    "\n",
    "print(f'list_a.pop() = {list_a.pop()}')\n",
    "print(f'list_a = {list_a}\\n')"
   ]
  },
  {
   "cell_type": "markdown",
   "metadata": {},
   "source": [
    "### 1.3.2. Tuple\n",
    "- parenthesis\n",
    "- immutable（要素不変）"
   ]
  },
  {
   "cell_type": "code",
   "execution_count": 54,
   "metadata": {},
   "outputs": [
    {
     "name": "stdout",
     "output_type": "stream",
     "text": [
      "tuple_a = (80, 40, 30, 20, 20)\n",
      "tuple_a[2] = 30\n",
      "tuple_a[2:5] = (30, 20, 20)\n",
      "30 in tuple_a = True\n",
      "90 in tuple_a = False\n",
      "len(tuple_a) = 5\n",
      "tuple_b = (80, 40, 30, 20, 20)\n"
     ]
    }
   ],
   "source": [
    "tuple_a = (80, 40, 30, 20, 20)\n",
    "print(f'tuple_a = {tuple_a}')\n",
    "print(f'tuple_a[2] = {tuple_a[2]}')\n",
    "print(f'tuple_a[2:5] = {tuple_a[2:5]}')\n",
    "print(f'30 in tuple_a = {30 in tuple_a}')\n",
    "print(f'90 in tuple_a = {90 in tuple_a}')\n",
    "print(f'len(tuple_a) = {len(tuple_a)}')\n",
    "tuple_b = 80, 40, 30, 20, 20\n",
    "print(f'tuple_b = {tuple_b}')"
   ]
  },
  {
   "cell_type": "code",
   "execution_count": 55,
   "metadata": {},
   "outputs": [
    {
     "name": "stdout",
     "output_type": "stream",
     "text": [
      "list_a = [80, 40, 100, 20, 20]\n",
      "Error: 'tuple' object does not support item assignment\n"
     ]
    }
   ],
   "source": [
    "# mutable vs immutable\n",
    "list_a[2] = 100\n",
    "print(f'list_a = {list_a}')\n",
    "try:\n",
    "    tuple_a[2] = 100\n",
    "except TypeError as e:\n",
    "    print(f'Error: {e}')"
   ]
  },
  {
   "cell_type": "markdown",
   "metadata": {},
   "source": [
    "### 1.3.3. Dict\n",
    "- brace\n",
    "- 順序無し"
   ]
  },
  {
   "cell_type": "code",
   "execution_count": 56,
   "metadata": {},
   "outputs": [
    {
     "name": "stdout",
     "output_type": "stream",
     "text": [
      "dict_a = {'k1': 100, 'k2': 200, 'k3': 300}\n",
      "dict_a[\"k1\"] = 100\n",
      "dict_a = {'k1': 1000, 'k2': 200, 'k3': 300}\n",
      "200 in dict_a = False\n",
      "\"k2\" in dict_a = True\n",
      "len(dict_a) = 3\n"
     ]
    }
   ],
   "source": [
    "dict_a = {'k1': 100, 'k2': 200, 'k3': 300}\n",
    "print(f'dict_a = {dict_a}')\n",
    "print(f'dict_a[\"k1\"] = {dict_a[\"k1\"]}')\n",
    "dict_a['k1'] = 1000\n",
    "print(f'dict_a = {dict_a}')\n",
    "print(f'200 in dict_a = {200 in dict_a}') # false\n",
    "print(f'\"k2\" in dict_a = {\"k2\" in dict_a}')\n",
    "print(f'len(dict_a) = {len(dict_a)}')"
   ]
  },
  {
   "cell_type": "code",
   "execution_count": 63,
   "metadata": {},
   "outputs": [
    {
     "name": "stdout",
     "output_type": "stream",
     "text": [
      "dict_a = {'k1': 100, 'k2': 200, 'k3': 300}\n",
      "\n",
      "dict_a.get(\"k1\") = 100\n",
      "dict_a.get(\"k777\") = None\n",
      "\n",
      "dict_a.pop(\"k1\") = 100\n",
      "dict_a = {'k2': 200, 'k3': 300}\n",
      "\n",
      "dict_a.setdefault(\"k4\", 400) = 400\n",
      "dict_a = {'k2': 200, 'k3': 300, 'k4': 400}\n",
      "dict_a.setdefault(\"k2\", 2000) = 200\n",
      "dict_a = {'k2': 200, 'k3': 300, 'k4': 400}\n"
     ]
    }
   ],
   "source": [
    "dict_a = {'k1': 100, 'k2': 200, 'k3': 300}\n",
    "print(f'dict_a = {dict_a}\\n')\n",
    "\n",
    "print(f'dict_a.get(\"k1\") = {dict_a.get(\"k1\")}')\n",
    "print(f'dict_a.get(\"k777\") = {dict_a.get(\"k777\")}\\n')\n",
    "\n",
    "try:\n",
    "    print(f'dict_a.pop(\"k1\") = {dict_a.pop(\"k1\")}')\n",
    "except KeyError as e:\n",
    "    print(f'Error: {e}')\n",
    "print(f'dict_a = {dict_a}\\n')\n",
    "\n",
    "print(f'dict_a.setdefault(\"k4\", 400) = {dict_a.setdefault(\"k4\", 400)}')\n",
    "print(f'dict_a = {dict_a}')\n",
    "print(f'dict_a.setdefault(\"k2\", 2000) = {dict_a.setdefault(\"k2\", 2000)}')\n",
    "print(f'dict_a = {dict_a}')"
   ]
  },
  {
   "cell_type": "markdown",
   "metadata": {},
   "source": [
    "### 1.3.4. Set\n",
    "- 重複無し\n",
    "- 順序無し\n",
    "- 要素の型混合可\n",
    "- set型はmutable（要素可変）, frozenset型はimmutable（要素不変）"
   ]
  },
  {
   "cell_type": "code",
   "execution_count": 67,
   "metadata": {},
   "outputs": [
    {
     "name": "stdout",
     "output_type": "stream",
     "text": [
      "set_a = {40, 10, 20, 30}\n",
      "\n",
      "set_b = {'ebihara', 3.14, 'yuri'}\n",
      "\n",
      "set_a.add(50) = None\n",
      "set_a = {40, 10, 50, 20, 30}\n",
      "\n",
      "set_a.remove(10) = None\n",
      "set_a = {40, 50, 20, 30}\n",
      "\n",
      "fset = frozenset({40, 50, 20, 30})\n",
      "Error: 'frozenset' object has no attribute 'add'\n"
     ]
    }
   ],
   "source": [
    "set_a = {10, 20, 30, 10, 20, 40}\n",
    "print(f'set_a = {set_a}\\n')\n",
    "\n",
    "set_b = {3.14, 'yuri', 3.14, 'ebihara'}\n",
    "print(f'set_b = {set_b}\\n')\n",
    "\n",
    "print(f'set_a.add(50) = {set_a.add(50)}')\n",
    "print(f'set_a = {set_a}\\n')\n",
    "\n",
    "print(f'set_a.remove(10) = {set_a.remove(10)}')\n",
    "print(f'set_a = {set_a}\\n')\n",
    "\n",
    "fset = frozenset(set_a)\n",
    "print(f'fset = {fset}')\n",
    "try:\n",
    "    fset.add(60)\n",
    "except AttributeError as e:\n",
    "    print(f'Error: {e}')"
   ]
  },
  {
   "cell_type": "code",
   "execution_count": 2,
   "metadata": {},
   "outputs": [
    {
     "name": "stdout",
     "output_type": "stream",
     "text": [
      "set_a = {40, 10, 20, 30}\n",
      "set_b = {40, 50, 60, 30}\n",
      "\n",
      "set_a | set_b = {40, 10, 50, 20, 60, 30}\n",
      "set_a & set_b = {40, 30}\n",
      "set_a - set_b = {10, 20}\n",
      "set_a ^ set_b = {10, 50, 20, 60}\n"
     ]
    }
   ],
   "source": [
    "set_a = {10, 20, 30, 40}\n",
    "set_b = {30, 40, 50, 60}\n",
    "print(f'set_a = {set_a}')\n",
    "print(f'set_b = {set_b}\\n')\n",
    "print(f'set_a | set_b = {set_a | set_b}') # union\n",
    "print(f'set_a & set_b = {set_a & set_b}') # intersection\n",
    "print(f'set_a - set_b = {set_a - set_b}') # difference\n",
    "print(f'set_a ^ set_b = {set_a ^ set_b}') # symmetric difference"
   ]
  }
 ],
 "metadata": {
  "kernelspec": {
   "display_name": "Python (Docker)",
   "language": "python",
   "name": "my_docker_kernel"
  },
  "language_info": {
   "codemirror_mode": {
    "name": "ipython",
    "version": 3
   },
   "file_extension": ".py",
   "mimetype": "text/x-python",
   "name": "python",
   "nbconvert_exporter": "python",
   "pygments_lexer": "ipython3",
   "version": "3.13.2"
  }
 },
 "nbformat": 4,
 "nbformat_minor": 2
}
